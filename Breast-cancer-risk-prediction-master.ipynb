{
  "nbformat": 4,
  "nbformat_minor": 0,
  "metadata": {
    "colab": {
      "name": "ANN.ipynb",
      "provenance": [],
      "collapsed_sections": [],
      "authorship_tag": "ABX9TyMbNei1WdI7g0YkrAUeKgbZ",
      "include_colab_link": true
    },
    "kernelspec": {
      "name": "python3",
      "display_name": "Python 3"
    }
  },
  "cells": [
    {
      "cell_type": "markdown",
      "metadata": {
        "id": "view-in-github",
        "colab_type": "text"
      },
      "source": [
        "<a href=\"https://colab.research.google.com/github/Laleeth/Deep-learning-projects/blob/master/Breast-cancer-risk-prediction-master.ipynb\" target=\"_parent\"><img src=\"https://colab.research.google.com/assets/colab-badge.svg\" alt=\"Open In Colab\"/></a>"
      ]
    },
    {
      "cell_type": "code",
      "metadata": {
        "id": "dJQ-udkLAcjg",
        "colab_type": "code",
        "outputId": "981409fb-7465-4350-a9bf-3e86944c9820",
        "colab": {
          "resources": {
            "http://localhost:8080/nbextensions/google.colab/files.js": {
              "data": "Ly8gQ29weXJpZ2h0IDIwMTcgR29vZ2xlIExMQwovLwovLyBMaWNlbnNlZCB1bmRlciB0aGUgQXBhY2hlIExpY2Vuc2UsIFZlcnNpb24gMi4wICh0aGUgIkxpY2Vuc2UiKTsKLy8geW91IG1heSBub3QgdXNlIHRoaXMgZmlsZSBleGNlcHQgaW4gY29tcGxpYW5jZSB3aXRoIHRoZSBMaWNlbnNlLgovLyBZb3UgbWF5IG9idGFpbiBhIGNvcHkgb2YgdGhlIExpY2Vuc2UgYXQKLy8KLy8gICAgICBodHRwOi8vd3d3LmFwYWNoZS5vcmcvbGljZW5zZXMvTElDRU5TRS0yLjAKLy8KLy8gVW5sZXNzIHJlcXVpcmVkIGJ5IGFwcGxpY2FibGUgbGF3IG9yIGFncmVlZCB0byBpbiB3cml0aW5nLCBzb2Z0d2FyZQovLyBkaXN0cmlidXRlZCB1bmRlciB0aGUgTGljZW5zZSBpcyBkaXN0cmlidXRlZCBvbiBhbiAiQVMgSVMiIEJBU0lTLAovLyBXSVRIT1VUIFdBUlJBTlRJRVMgT1IgQ09ORElUSU9OUyBPRiBBTlkgS0lORCwgZWl0aGVyIGV4cHJlc3Mgb3IgaW1wbGllZC4KLy8gU2VlIHRoZSBMaWNlbnNlIGZvciB0aGUgc3BlY2lmaWMgbGFuZ3VhZ2UgZ292ZXJuaW5nIHBlcm1pc3Npb25zIGFuZAovLyBsaW1pdGF0aW9ucyB1bmRlciB0aGUgTGljZW5zZS4KCi8qKgogKiBAZmlsZW92ZXJ2aWV3IEhlbHBlcnMgZm9yIGdvb2dsZS5jb2xhYiBQeXRob24gbW9kdWxlLgogKi8KKGZ1bmN0aW9uKHNjb3BlKSB7CmZ1bmN0aW9uIHNwYW4odGV4dCwgc3R5bGVBdHRyaWJ1dGVzID0ge30pIHsKICBjb25zdCBlbGVtZW50ID0gZG9jdW1lbnQuY3JlYXRlRWxlbWVudCgnc3BhbicpOwogIGVsZW1lbnQudGV4dENvbnRlbnQgPSB0ZXh0OwogIGZvciAoY29uc3Qga2V5IG9mIE9iamVjdC5rZXlzKHN0eWxlQXR0cmlidXRlcykpIHsKICAgIGVsZW1lbnQuc3R5bGVba2V5XSA9IHN0eWxlQXR0cmlidXRlc1trZXldOwogIH0KICByZXR1cm4gZWxlbWVudDsKfQoKLy8gTWF4IG51bWJlciBvZiBieXRlcyB3aGljaCB3aWxsIGJlIHVwbG9hZGVkIGF0IGEgdGltZS4KY29uc3QgTUFYX1BBWUxPQURfU0laRSA9IDEwMCAqIDEwMjQ7Ci8vIE1heCBhbW91bnQgb2YgdGltZSB0byBibG9jayB3YWl0aW5nIGZvciB0aGUgdXNlci4KY29uc3QgRklMRV9DSEFOR0VfVElNRU9VVF9NUyA9IDMwICogMTAwMDsKCmZ1bmN0aW9uIF91cGxvYWRGaWxlcyhpbnB1dElkLCBvdXRwdXRJZCkgewogIGNvbnN0IHN0ZXBzID0gdXBsb2FkRmlsZXNTdGVwKGlucHV0SWQsIG91dHB1dElkKTsKICBjb25zdCBvdXRwdXRFbGVtZW50ID0gZG9jdW1lbnQuZ2V0RWxlbWVudEJ5SWQob3V0cHV0SWQpOwogIC8vIENhY2hlIHN0ZXBzIG9uIHRoZSBvdXRwdXRFbGVtZW50IHRvIG1ha2UgaXQgYXZhaWxhYmxlIGZvciB0aGUgbmV4dCBjYWxsCiAgLy8gdG8gdXBsb2FkRmlsZXNDb250aW51ZSBmcm9tIFB5dGhvbi4KICBvdXRwdXRFbGVtZW50LnN0ZXBzID0gc3RlcHM7CgogIHJldHVybiBfdXBsb2FkRmlsZXNDb250aW51ZShvdXRwdXRJZCk7Cn0KCi8vIFRoaXMgaXMgcm91Z2hseSBhbiBhc3luYyBnZW5lcmF0b3IgKG5vdCBzdXBwb3J0ZWQgaW4gdGhlIGJyb3dzZXIgeWV0KSwKLy8gd2hlcmUgdGhlcmUgYXJlIG11bHRpcGxlIGFzeW5jaHJvbm91cyBzdGVwcyBhbmQgdGhlIFB5dGhvbiBzaWRlIGlzIGdvaW5nCi8vIHRvIHBvbGwgZm9yIGNvbXBsZXRpb24gb2YgZWFjaCBzdGVwLgovLyBUaGlzIHVzZXMgYSBQcm9taXNlIHRvIGJsb2NrIHRoZSBweXRob24gc2lkZSBvbiBjb21wbGV0aW9uIG9mIGVhY2ggc3RlcCwKLy8gdGhlbiBwYXNzZXMgdGhlIHJlc3VsdCBvZiB0aGUgcHJldmlvdXMgc3RlcCBhcyB0aGUgaW5wdXQgdG8gdGhlIG5leHQgc3RlcC4KZnVuY3Rpb24gX3VwbG9hZEZpbGVzQ29udGludWUob3V0cHV0SWQpIHsKICBjb25zdCBvdXRwdXRFbGVtZW50ID0gZG9jdW1lbnQuZ2V0RWxlbWVudEJ5SWQob3V0cHV0SWQpOwogIGNvbnN0IHN0ZXBzID0gb3V0cHV0RWxlbWVudC5zdGVwczsKCiAgY29uc3QgbmV4dCA9IHN0ZXBzLm5leHQob3V0cHV0RWxlbWVudC5sYXN0UHJvbWlzZVZhbHVlKTsKICByZXR1cm4gUHJvbWlzZS5yZXNvbHZlKG5leHQudmFsdWUucHJvbWlzZSkudGhlbigodmFsdWUpID0+IHsKICAgIC8vIENhY2hlIHRoZSBsYXN0IHByb21pc2UgdmFsdWUgdG8gbWFrZSBpdCBhdmFpbGFibGUgdG8gdGhlIG5leHQKICAgIC8vIHN0ZXAgb2YgdGhlIGdlbmVyYXRvci4KICAgIG91dHB1dEVsZW1lbnQubGFzdFByb21pc2VWYWx1ZSA9IHZhbHVlOwogICAgcmV0dXJuIG5leHQudmFsdWUucmVzcG9uc2U7CiAgfSk7Cn0KCi8qKgogKiBHZW5lcmF0b3IgZnVuY3Rpb24gd2hpY2ggaXMgY2FsbGVkIGJldHdlZW4gZWFjaCBhc3luYyBzdGVwIG9mIHRoZSB1cGxvYWQKICogcHJvY2Vzcy4KICogQHBhcmFtIHtzdHJpbmd9IGlucHV0SWQgRWxlbWVudCBJRCBvZiB0aGUgaW5wdXQgZmlsZSBwaWNrZXIgZWxlbWVudC4KICogQHBhcmFtIHtzdHJpbmd9IG91dHB1dElkIEVsZW1lbnQgSUQgb2YgdGhlIG91dHB1dCBkaXNwbGF5LgogKiBAcmV0dXJuIHshSXRlcmFibGU8IU9iamVjdD59IEl0ZXJhYmxlIG9mIG5leHQgc3RlcHMuCiAqLwpmdW5jdGlvbiogdXBsb2FkRmlsZXNTdGVwKGlucHV0SWQsIG91dHB1dElkKSB7CiAgY29uc3QgaW5wdXRFbGVtZW50ID0gZG9jdW1lbnQuZ2V0RWxlbWVudEJ5SWQoaW5wdXRJZCk7CiAgaW5wdXRFbGVtZW50LmRpc2FibGVkID0gZmFsc2U7CgogIGNvbnN0IG91dHB1dEVsZW1lbnQgPSBkb2N1bWVudC5nZXRFbGVtZW50QnlJZChvdXRwdXRJZCk7CiAgb3V0cHV0RWxlbWVudC5pbm5lckhUTUwgPSAnJzsKCiAgY29uc3QgcGlja2VkUHJvbWlzZSA9IG5ldyBQcm9taXNlKChyZXNvbHZlKSA9PiB7CiAgICBpbnB1dEVsZW1lbnQuYWRkRXZlbnRMaXN0ZW5lcignY2hhbmdlJywgKGUpID0+IHsKICAgICAgcmVzb2x2ZShlLnRhcmdldC5maWxlcyk7CiAgICB9KTsKICB9KTsKCiAgY29uc3QgY2FuY2VsID0gZG9jdW1lbnQuY3JlYXRlRWxlbWVudCgnYnV0dG9uJyk7CiAgaW5wdXRFbGVtZW50LnBhcmVudEVsZW1lbnQuYXBwZW5kQ2hpbGQoY2FuY2VsKTsKICBjYW5jZWwudGV4dENvbnRlbnQgPSAnQ2FuY2VsIHVwbG9hZCc7CiAgY29uc3QgY2FuY2VsUHJvbWlzZSA9IG5ldyBQcm9taXNlKChyZXNvbHZlKSA9PiB7CiAgICBjYW5jZWwub25jbGljayA9ICgpID0+IHsKICAgICAgcmVzb2x2ZShudWxsKTsKICAgIH07CiAgfSk7CgogIC8vIENhbmNlbCB1cGxvYWQgaWYgdXNlciBoYXNuJ3QgcGlja2VkIGFueXRoaW5nIGluIHRpbWVvdXQuCiAgY29uc3QgdGltZW91dFByb21pc2UgPSBuZXcgUHJvbWlzZSgocmVzb2x2ZSkgPT4gewogICAgc2V0VGltZW91dCgoKSA9PiB7CiAgICAgIHJlc29sdmUobnVsbCk7CiAgICB9LCBGSUxFX0NIQU5HRV9USU1FT1VUX01TKTsKICB9KTsKCiAgLy8gV2FpdCBmb3IgdGhlIHVzZXIgdG8gcGljayB0aGUgZmlsZXMuCiAgY29uc3QgZmlsZXMgPSB5aWVsZCB7CiAgICBwcm9taXNlOiBQcm9taXNlLnJhY2UoW3BpY2tlZFByb21pc2UsIHRpbWVvdXRQcm9taXNlLCBjYW5jZWxQcm9taXNlXSksCiAgICByZXNwb25zZTogewogICAgICBhY3Rpb246ICdzdGFydGluZycsCiAgICB9CiAgfTsKCiAgaWYgKCFmaWxlcykgewogICAgcmV0dXJuIHsKICAgICAgcmVzcG9uc2U6IHsKICAgICAgICBhY3Rpb246ICdjb21wbGV0ZScsCiAgICAgIH0KICAgIH07CiAgfQoKICBjYW5jZWwucmVtb3ZlKCk7CgogIC8vIERpc2FibGUgdGhlIGlucHV0IGVsZW1lbnQgc2luY2UgZnVydGhlciBwaWNrcyBhcmUgbm90IGFsbG93ZWQuCiAgaW5wdXRFbGVtZW50LmRpc2FibGVkID0gdHJ1ZTsKCiAgZm9yIChjb25zdCBmaWxlIG9mIGZpbGVzKSB7CiAgICBjb25zdCBsaSA9IGRvY3VtZW50LmNyZWF0ZUVsZW1lbnQoJ2xpJyk7CiAgICBsaS5hcHBlbmQoc3BhbihmaWxlLm5hbWUsIHtmb250V2VpZ2h0OiAnYm9sZCd9KSk7CiAgICBsaS5hcHBlbmQoc3BhbigKICAgICAgICBgKCR7ZmlsZS50eXBlIHx8ICduL2EnfSkgLSAke2ZpbGUuc2l6ZX0gYnl0ZXMsIGAgKwogICAgICAgIGBsYXN0IG1vZGlmaWVkOiAkewogICAgICAgICAgICBmaWxlLmxhc3RNb2RpZmllZERhdGUgPyBmaWxlLmxhc3RNb2RpZmllZERhdGUudG9Mb2NhbGVEYXRlU3RyaW5nKCkgOgogICAgICAgICAgICAgICAgICAgICAgICAgICAgICAgICAgICAnbi9hJ30gLSBgKSk7CiAgICBjb25zdCBwZXJjZW50ID0gc3BhbignMCUgZG9uZScpOwogICAgbGkuYXBwZW5kQ2hpbGQocGVyY2VudCk7CgogICAgb3V0cHV0RWxlbWVudC5hcHBlbmRDaGlsZChsaSk7CgogICAgY29uc3QgZmlsZURhdGFQcm9taXNlID0gbmV3IFByb21pc2UoKHJlc29sdmUpID0+IHsKICAgICAgY29uc3QgcmVhZGVyID0gbmV3IEZpbGVSZWFkZXIoKTsKICAgICAgcmVhZGVyLm9ubG9hZCA9IChlKSA9PiB7CiAgICAgICAgcmVzb2x2ZShlLnRhcmdldC5yZXN1bHQpOwogICAgICB9OwogICAgICByZWFkZXIucmVhZEFzQXJyYXlCdWZmZXIoZmlsZSk7CiAgICB9KTsKICAgIC8vIFdhaXQgZm9yIHRoZSBkYXRhIHRvIGJlIHJlYWR5LgogICAgbGV0IGZpbGVEYXRhID0geWllbGQgewogICAgICBwcm9taXNlOiBmaWxlRGF0YVByb21pc2UsCiAgICAgIHJlc3BvbnNlOiB7CiAgICAgICAgYWN0aW9uOiAnY29udGludWUnLAogICAgICB9CiAgICB9OwoKICAgIC8vIFVzZSBhIGNodW5rZWQgc2VuZGluZyB0byBhdm9pZCBtZXNzYWdlIHNpemUgbGltaXRzLiBTZWUgYi82MjExNTY2MC4KICAgIGxldCBwb3NpdGlvbiA9IDA7CiAgICB3aGlsZSAocG9zaXRpb24gPCBmaWxlRGF0YS5ieXRlTGVuZ3RoKSB7CiAgICAgIGNvbnN0IGxlbmd0aCA9IE1hdGgubWluKGZpbGVEYXRhLmJ5dGVMZW5ndGggLSBwb3NpdGlvbiwgTUFYX1BBWUxPQURfU0laRSk7CiAgICAgIGNvbnN0IGNodW5rID0gbmV3IFVpbnQ4QXJyYXkoZmlsZURhdGEsIHBvc2l0aW9uLCBsZW5ndGgpOwogICAgICBwb3NpdGlvbiArPSBsZW5ndGg7CgogICAgICBjb25zdCBiYXNlNjQgPSBidG9hKFN0cmluZy5mcm9tQ2hhckNvZGUuYXBwbHkobnVsbCwgY2h1bmspKTsKICAgICAgeWllbGQgewogICAgICAgIHJlc3BvbnNlOiB7CiAgICAgICAgICBhY3Rpb246ICdhcHBlbmQnLAogICAgICAgICAgZmlsZTogZmlsZS5uYW1lLAogICAgICAgICAgZGF0YTogYmFzZTY0LAogICAgICAgIH0sCiAgICAgIH07CiAgICAgIHBlcmNlbnQudGV4dENvbnRlbnQgPQogICAgICAgICAgYCR7TWF0aC5yb3VuZCgocG9zaXRpb24gLyBmaWxlRGF0YS5ieXRlTGVuZ3RoKSAqIDEwMCl9JSBkb25lYDsKICAgIH0KICB9CgogIC8vIEFsbCBkb25lLgogIHlpZWxkIHsKICAgIHJlc3BvbnNlOiB7CiAgICAgIGFjdGlvbjogJ2NvbXBsZXRlJywKICAgIH0KICB9Owp9CgpzY29wZS5nb29nbGUgPSBzY29wZS5nb29nbGUgfHwge307CnNjb3BlLmdvb2dsZS5jb2xhYiA9IHNjb3BlLmdvb2dsZS5jb2xhYiB8fCB7fTsKc2NvcGUuZ29vZ2xlLmNvbGFiLl9maWxlcyA9IHsKICBfdXBsb2FkRmlsZXMsCiAgX3VwbG9hZEZpbGVzQ29udGludWUsCn07Cn0pKHNlbGYpOwo=",
              "ok": true,
              "headers": [
                [
                  "content-type",
                  "application/javascript"
                ]
              ],
              "status": 200,
              "status_text": ""
            }
          },
          "base_uri": "https://localhost:8080/",
          "height": 91
        }
      },
      "source": [
        "from google.colab import files\n",
        "\n",
        "uploaded = files.upload()\n",
        "\n",
        "for fn in uploaded.keys():\n",
        "  print('User uploaded file \"{name}\" with length {length} bytes'.format(\n",
        "      name=fn, length=len(uploaded[fn])))"
      ],
      "execution_count": 7,
      "outputs": [
        {
          "output_type": "display_data",
          "data": {
            "text/html": [
              "\n",
              "     <input type=\"file\" id=\"files-3fccf12d-4276-47d1-856d-43a59948c175\" name=\"files[]\" multiple disabled />\n",
              "     <output id=\"result-3fccf12d-4276-47d1-856d-43a59948c175\">\n",
              "      Upload widget is only available when the cell has been executed in the\n",
              "      current browser session. Please rerun this cell to enable.\n",
              "      </output>\n",
              "      <script src=\"/nbextensions/google.colab/files.js\"></script> "
            ],
            "text/plain": [
              "<IPython.core.display.HTML object>"
            ]
          },
          "metadata": {
            "tags": []
          }
        },
        {
          "output_type": "stream",
          "text": [
            "Saving data.csv to data.csv\n",
            "User uploaded file \"data.csv\" with length 125139 bytes\n"
          ],
          "name": "stdout"
        }
      ]
    },
    {
      "cell_type": "code",
      "metadata": {
        "id": "6arEL-6iCXqf",
        "colab_type": "code",
        "outputId": "98e5a7dc-43af-4de5-fd28-0f4a36c6e003",
        "colab": {
          "base_uri": "https://localhost:8080/",
          "height": 232
        }
      },
      "source": [
        "import pandas as pd\n",
        "data=pd.read_csv('data.csv')\n",
        "data.head()"
      ],
      "execution_count": 8,
      "outputs": [
        {
          "output_type": "execute_result",
          "data": {
            "text/html": [
              "<div>\n",
              "<style scoped>\n",
              "    .dataframe tbody tr th:only-of-type {\n",
              "        vertical-align: middle;\n",
              "    }\n",
              "\n",
              "    .dataframe tbody tr th {\n",
              "        vertical-align: top;\n",
              "    }\n",
              "\n",
              "    .dataframe thead th {\n",
              "        text-align: right;\n",
              "    }\n",
              "</style>\n",
              "<table border=\"1\" class=\"dataframe\">\n",
              "  <thead>\n",
              "    <tr style=\"text-align: right;\">\n",
              "      <th></th>\n",
              "      <th>id</th>\n",
              "      <th>diagnosis</th>\n",
              "      <th>radius_mean</th>\n",
              "      <th>texture_mean</th>\n",
              "      <th>perimeter_mean</th>\n",
              "      <th>area_mean</th>\n",
              "      <th>smoothness_mean</th>\n",
              "      <th>compactness_mean</th>\n",
              "      <th>concavity_mean</th>\n",
              "      <th>concave points_mean</th>\n",
              "      <th>symmetry_mean</th>\n",
              "      <th>fractal_dimension_mean</th>\n",
              "      <th>radius_se</th>\n",
              "      <th>texture_se</th>\n",
              "      <th>perimeter_se</th>\n",
              "      <th>area_se</th>\n",
              "      <th>smoothness_se</th>\n",
              "      <th>compactness_se</th>\n",
              "      <th>concavity_se</th>\n",
              "      <th>concave points_se</th>\n",
              "      <th>symmetry_se</th>\n",
              "      <th>fractal_dimension_se</th>\n",
              "      <th>radius_worst</th>\n",
              "      <th>texture_worst</th>\n",
              "      <th>perimeter_worst</th>\n",
              "      <th>area_worst</th>\n",
              "      <th>smoothness_worst</th>\n",
              "      <th>compactness_worst</th>\n",
              "      <th>concavity_worst</th>\n",
              "      <th>concave points_worst</th>\n",
              "      <th>symmetry_worst</th>\n",
              "      <th>fractal_dimension_worst</th>\n",
              "    </tr>\n",
              "  </thead>\n",
              "  <tbody>\n",
              "    <tr>\n",
              "      <th>0</th>\n",
              "      <td>842302</td>\n",
              "      <td>M</td>\n",
              "      <td>17.99</td>\n",
              "      <td>10.38</td>\n",
              "      <td>122.80</td>\n",
              "      <td>1001.0</td>\n",
              "      <td>0.11840</td>\n",
              "      <td>0.27760</td>\n",
              "      <td>0.3001</td>\n",
              "      <td>0.14710</td>\n",
              "      <td>0.2419</td>\n",
              "      <td>0.07871</td>\n",
              "      <td>1.0950</td>\n",
              "      <td>0.9053</td>\n",
              "      <td>8.589</td>\n",
              "      <td>153.40</td>\n",
              "      <td>0.006399</td>\n",
              "      <td>0.04904</td>\n",
              "      <td>0.05373</td>\n",
              "      <td>0.01587</td>\n",
              "      <td>0.03003</td>\n",
              "      <td>0.006193</td>\n",
              "      <td>25.38</td>\n",
              "      <td>17.33</td>\n",
              "      <td>184.60</td>\n",
              "      <td>2019.0</td>\n",
              "      <td>0.1622</td>\n",
              "      <td>0.6656</td>\n",
              "      <td>0.7119</td>\n",
              "      <td>0.2654</td>\n",
              "      <td>0.4601</td>\n",
              "      <td>0.11890</td>\n",
              "    </tr>\n",
              "    <tr>\n",
              "      <th>1</th>\n",
              "      <td>842517</td>\n",
              "      <td>M</td>\n",
              "      <td>20.57</td>\n",
              "      <td>17.77</td>\n",
              "      <td>132.90</td>\n",
              "      <td>1326.0</td>\n",
              "      <td>0.08474</td>\n",
              "      <td>0.07864</td>\n",
              "      <td>0.0869</td>\n",
              "      <td>0.07017</td>\n",
              "      <td>0.1812</td>\n",
              "      <td>0.05667</td>\n",
              "      <td>0.5435</td>\n",
              "      <td>0.7339</td>\n",
              "      <td>3.398</td>\n",
              "      <td>74.08</td>\n",
              "      <td>0.005225</td>\n",
              "      <td>0.01308</td>\n",
              "      <td>0.01860</td>\n",
              "      <td>0.01340</td>\n",
              "      <td>0.01389</td>\n",
              "      <td>0.003532</td>\n",
              "      <td>24.99</td>\n",
              "      <td>23.41</td>\n",
              "      <td>158.80</td>\n",
              "      <td>1956.0</td>\n",
              "      <td>0.1238</td>\n",
              "      <td>0.1866</td>\n",
              "      <td>0.2416</td>\n",
              "      <td>0.1860</td>\n",
              "      <td>0.2750</td>\n",
              "      <td>0.08902</td>\n",
              "    </tr>\n",
              "    <tr>\n",
              "      <th>2</th>\n",
              "      <td>84300903</td>\n",
              "      <td>M</td>\n",
              "      <td>19.69</td>\n",
              "      <td>21.25</td>\n",
              "      <td>130.00</td>\n",
              "      <td>1203.0</td>\n",
              "      <td>0.10960</td>\n",
              "      <td>0.15990</td>\n",
              "      <td>0.1974</td>\n",
              "      <td>0.12790</td>\n",
              "      <td>0.2069</td>\n",
              "      <td>0.05999</td>\n",
              "      <td>0.7456</td>\n",
              "      <td>0.7869</td>\n",
              "      <td>4.585</td>\n",
              "      <td>94.03</td>\n",
              "      <td>0.006150</td>\n",
              "      <td>0.04006</td>\n",
              "      <td>0.03832</td>\n",
              "      <td>0.02058</td>\n",
              "      <td>0.02250</td>\n",
              "      <td>0.004571</td>\n",
              "      <td>23.57</td>\n",
              "      <td>25.53</td>\n",
              "      <td>152.50</td>\n",
              "      <td>1709.0</td>\n",
              "      <td>0.1444</td>\n",
              "      <td>0.4245</td>\n",
              "      <td>0.4504</td>\n",
              "      <td>0.2430</td>\n",
              "      <td>0.3613</td>\n",
              "      <td>0.08758</td>\n",
              "    </tr>\n",
              "    <tr>\n",
              "      <th>3</th>\n",
              "      <td>84348301</td>\n",
              "      <td>M</td>\n",
              "      <td>11.42</td>\n",
              "      <td>20.38</td>\n",
              "      <td>77.58</td>\n",
              "      <td>386.1</td>\n",
              "      <td>0.14250</td>\n",
              "      <td>0.28390</td>\n",
              "      <td>0.2414</td>\n",
              "      <td>0.10520</td>\n",
              "      <td>0.2597</td>\n",
              "      <td>0.09744</td>\n",
              "      <td>0.4956</td>\n",
              "      <td>1.1560</td>\n",
              "      <td>3.445</td>\n",
              "      <td>27.23</td>\n",
              "      <td>0.009110</td>\n",
              "      <td>0.07458</td>\n",
              "      <td>0.05661</td>\n",
              "      <td>0.01867</td>\n",
              "      <td>0.05963</td>\n",
              "      <td>0.009208</td>\n",
              "      <td>14.91</td>\n",
              "      <td>26.50</td>\n",
              "      <td>98.87</td>\n",
              "      <td>567.7</td>\n",
              "      <td>0.2098</td>\n",
              "      <td>0.8663</td>\n",
              "      <td>0.6869</td>\n",
              "      <td>0.2575</td>\n",
              "      <td>0.6638</td>\n",
              "      <td>0.17300</td>\n",
              "    </tr>\n",
              "    <tr>\n",
              "      <th>4</th>\n",
              "      <td>84358402</td>\n",
              "      <td>M</td>\n",
              "      <td>20.29</td>\n",
              "      <td>14.34</td>\n",
              "      <td>135.10</td>\n",
              "      <td>1297.0</td>\n",
              "      <td>0.10030</td>\n",
              "      <td>0.13280</td>\n",
              "      <td>0.1980</td>\n",
              "      <td>0.10430</td>\n",
              "      <td>0.1809</td>\n",
              "      <td>0.05883</td>\n",
              "      <td>0.7572</td>\n",
              "      <td>0.7813</td>\n",
              "      <td>5.438</td>\n",
              "      <td>94.44</td>\n",
              "      <td>0.011490</td>\n",
              "      <td>0.02461</td>\n",
              "      <td>0.05688</td>\n",
              "      <td>0.01885</td>\n",
              "      <td>0.01756</td>\n",
              "      <td>0.005115</td>\n",
              "      <td>22.54</td>\n",
              "      <td>16.67</td>\n",
              "      <td>152.20</td>\n",
              "      <td>1575.0</td>\n",
              "      <td>0.1374</td>\n",
              "      <td>0.2050</td>\n",
              "      <td>0.4000</td>\n",
              "      <td>0.1625</td>\n",
              "      <td>0.2364</td>\n",
              "      <td>0.07678</td>\n",
              "    </tr>\n",
              "  </tbody>\n",
              "</table>\n",
              "</div>"
            ],
            "text/plain": [
              "         id diagnosis  ...  symmetry_worst  fractal_dimension_worst\n",
              "0    842302         M  ...          0.4601                  0.11890\n",
              "1    842517         M  ...          0.2750                  0.08902\n",
              "2  84300903         M  ...          0.3613                  0.08758\n",
              "3  84348301         M  ...          0.6638                  0.17300\n",
              "4  84358402         M  ...          0.2364                  0.07678\n",
              "\n",
              "[5 rows x 32 columns]"
            ]
          },
          "metadata": {
            "tags": []
          },
          "execution_count": 8
        }
      ]
    },
    {
      "cell_type": "code",
      "metadata": {
        "id": "0OmepbtAD5cE",
        "colab_type": "code",
        "outputId": "39e198a5-b93c-4ad7-fa07-06d9e9fdf664",
        "colab": {
          "base_uri": "https://localhost:8080/",
          "height": 366
        }
      },
      "source": [
        "import seaborn as sns\n",
        "ax = sns.countplot(data['diagnosis'],label='Count')\n",
        "B,M =data['diagnosis'].value_counts()\n",
        "print('Benign',B)\n",
        "print('Malignanat',M)"
      ],
      "execution_count": 9,
      "outputs": [
        {
          "output_type": "stream",
          "text": [
            "/usr/local/lib/python3.6/dist-packages/statsmodels/tools/_testing.py:19: FutureWarning: pandas.util.testing is deprecated. Use the functions in the public API at pandas.testing instead.\n",
            "  import pandas.util.testing as tm\n"
          ],
          "name": "stderr"
        },
        {
          "output_type": "stream",
          "text": [
            "Benign 357\n",
            "Malignanat 212\n"
          ],
          "name": "stdout"
        },
        {
          "output_type": "display_data",
          "data": {
            "image/png": "[encoded data removed]",
            "text/plain": [
              "<Figure size 432x288 with 1 Axes>"
            ]
          },
          "metadata": {
            "tags": [],
            "needs_background": "light"
          }
        }
      ]
    },
    {
      "cell_type": "code",
      "metadata": {
        "id": "rR5hix52EKUw",
        "colab_type": "code",
        "colab": {}
      },
      "source": [
        "import numpy as np\n",
        "import matplotlib.pyplot as plt\n"
      ],
      "execution_count": 0,
      "outputs": []
    },
    {
      "cell_type": "code",
      "metadata": {
        "id": "YbqNJTqrE6yr",
        "colab_type": "code",
        "colab": {}
      },
      "source": [
        "X = data.iloc[:,2:].values\n",
        "y = data.iloc[:,1].values\n"
      ],
      "execution_count": 0,
      "outputs": []
    },
    {
      "cell_type": "code",
      "metadata": {
        "id": "JM7BERNYFQtC",
        "colab_type": "code",
        "colab": {}
      },
      "source": [
        "\n",
        "#Data Pre-processing\n",
        "from sklearn.preprocessing import LabelEncoder\n",
        "labelencoder_X_1 = LabelEncoder()\n",
        "y=labelencoder_X_1.fit_transform(y)"
      ],
      "execution_count": 0,
      "outputs": []
    },
    {
      "cell_type": "code",
      "metadata": {
        "id": "mQp8-gwlFRwq",
        "colab_type": "code",
        "colab": {}
      },
      "source": [
        "from sklearn.model_selection import train_test_split\n",
        "X_train,X_test,y_train,y_test = train_test_split(X,y,test_size=0.1,random_state=0)\n",
        "\n",
        "#Feature Scaling:\n",
        "from sklearn.preprocessing import StandardScaler\n",
        "sc=StandardScaler()\n",
        "X_train= sc.fit_transform(X_train)\n",
        "X_test=sc.transform(X_test)"
      ],
      "execution_count": 0,
      "outputs": []
    },
    {
      "cell_type": "code",
      "metadata": {
        "id": "xW6uwQEeHrxs",
        "colab_type": "code",
        "outputId": "9e567ec9-6117-4c79-a919-19ec57108fee",
        "colab": {
          "base_uri": "https://localhost:8080/",
          "height": 235
        }
      },
      "source": [
        "X_train"
      ],
      "execution_count": 14,
      "outputs": [
        {
          "output_type": "execute_result",
          "data": {
            "text/plain": [
              "array([[-0.52787029,  2.49821982, -0.59939466, ..., -1.74713139,\n",
              "        -0.79044533, -0.91054389],\n",
              "       [-0.55333608,  0.29431013, -0.60759343, ..., -0.62275667,\n",
              "        -0.33646358, -0.83551633],\n",
              "       [ 2.15452653,  0.40392257,  2.26525805, ...,  1.03846122,\n",
              "        -0.11504791,  0.26488788],\n",
              "       ...,\n",
              "       [-1.3297598 , -0.21876938, -1.32088704, ..., -0.98271999,\n",
              "        -0.718764  , -0.13637062],\n",
              "       [-1.24940108, -0.24209117, -1.2835826 , ..., -1.74713139,\n",
              "        -1.58690456, -1.01280367],\n",
              "       [-0.74291476,  1.08958336, -0.71827692, ..., -0.2865488 ,\n",
              "        -1.26354211,  0.19486216]])"
            ]
          },
          "metadata": {
            "tags": []
          },
          "execution_count": 14
        }
      ]
    },
    {
      "cell_type": "code",
      "metadata": {
        "id": "shPCU2eqHtIc",
        "colab_type": "code",
        "outputId": "a269e4e4-7ef4-4f82-e8c4-7f21b2c4344b",
        "colab": {
          "base_uri": "https://localhost:8080/",
          "height": 235
        }
      },
      "source": [
        "X_test"
      ],
      "execution_count": 15,
      "outputs": [
        {
          "output_type": "execute_result",
          "data": {
            "text/plain": [
              "array([[-0.20813312,  0.29431013, -0.13944326, ...,  1.35620942,\n",
              "         1.08282676,  1.50534354],\n",
              "       [-0.26189423,  1.39743106, -0.3255555 , ..., -0.83852283,\n",
              "        -0.73469319, -0.8855347 ],\n",
              "       [-0.0327021 , -0.83912914, -0.10049907, ..., -0.50397936,\n",
              "        -1.22531207, -0.92888396],\n",
              "       ...,\n",
              "       [-0.47410917,  0.14738282, -0.47600306, ..., -0.59340278,\n",
              "        -0.35079984, -0.34311323],\n",
              "       [-0.75423289, -0.7528385 , -0.77976775, ..., -0.75636222,\n",
              "        -0.08637538,  0.21209071],\n",
              "       [-0.79667588,  1.82421992, -0.83142005, ..., -1.43195543,\n",
              "        -0.08956122, -0.71936255]])"
            ]
          },
          "metadata": {
            "tags": []
          },
          "execution_count": 15
        }
      ]
    },
    {
      "cell_type": "code",
      "metadata": {
        "id": "pLokEqsmH5vo",
        "colab_type": "code",
        "outputId": "258956f2-9df6-44d1-c80f-5623057b21ce",
        "colab": {
          "base_uri": "https://localhost:8080/",
          "height": 151
        }
      },
      "source": [
        "!pip install keras"
      ],
      "execution_count": 16,
      "outputs": [
        {
          "output_type": "stream",
          "text": [
            "Requirement already satisfied: keras in /usr/local/lib/python3.6/dist-packages (2.3.1)\n",
            "Requirement already satisfied: scipy>=0.14 in /usr/local/lib/python3.6/dist-packages (from keras) (1.4.1)\n",
            "Requirement already satisfied: h5py in /usr/local/lib/python3.6/dist-packages (from keras) (2.10.0)\n",
            "Requirement already satisfied: six>=1.9.0 in /usr/local/lib/python3.6/dist-packages (from keras) (1.12.0)\n",
            "Requirement already satisfied: numpy>=1.9.1 in /usr/local/lib/python3.6/dist-packages (from keras) (1.18.3)\n",
            "Requirement already satisfied: keras-applications>=1.0.6 in /usr/local/lib/python3.6/dist-packages (from keras) (1.0.8)\n",
            "Requirement already satisfied: keras-preprocessing>=1.0.5 in /usr/local/lib/python3.6/dist-packages (from keras) (1.1.0)\n",
            "Requirement already satisfied: pyyaml in /usr/local/lib/python3.6/dist-packages (from keras) (3.13)\n"
          ],
          "name": "stdout"
        }
      ]
    },
    {
      "cell_type": "code",
      "metadata": {
        "id": "7ZgztiXGH-Os",
        "colab_type": "code",
        "colab": {
          "base_uri": "https://localhost:8080/",
          "height": 34
        },
        "outputId": "b5f08987-2786-4f6f-f9a2-50ae373038e5"
      },
      "source": [
        "import keras \n",
        "from keras.models import Sequential\n",
        "from keras.layers import Dense\n",
        "\n"
      ],
      "execution_count": 17,
      "outputs": [
        {
          "output_type": "stream",
          "text": [
            "Using TensorFlow backend.\n"
          ],
          "name": "stderr"
        }
      ]
    },
    {
      "cell_type": "code",
      "metadata": {
        "id": "zfxH0VSEIpT1",
        "colab_type": "code",
        "outputId": "a9ec459a-fdee-4faf-b2dc-98bd201ff9e1",
        "colab": {
          "base_uri": "https://localhost:8080/",
          "height": 138
        }
      },
      "source": [
        "#Adding the input and first hidden layer\n",
        "classifier = Sequential()\n",
        "classifier.add(Dense(output_dim=16,init='uniform',activation='relu',input_dim=30))\n",
        "\n",
        "#Adding second hidden layer\n",
        "classifier.add(Dense(output_dim=16,init='uniform',activation='relu'))\n",
        "\n",
        "#Adding output layer\n",
        "classifier.add(Dense(output_dim=1,init='uniform',activation='sigmoid'))"
      ],
      "execution_count": 19,
      "outputs": [
        {
          "output_type": "stream",
          "text": [
            "/usr/local/lib/python3.6/dist-packages/ipykernel_launcher.py:2: UserWarning: Update your `Dense` call to the Keras 2 API: `Dense(activation=\"relu\", input_dim=30, units=16, kernel_initializer=\"uniform\")`\n",
            "  \n",
            "/usr/local/lib/python3.6/dist-packages/ipykernel_launcher.py:5: UserWarning: Update your `Dense` call to the Keras 2 API: `Dense(activation=\"relu\", units=16, kernel_initializer=\"uniform\")`\n",
            "  \"\"\"\n",
            "/usr/local/lib/python3.6/dist-packages/ipykernel_launcher.py:8: UserWarning: Update your `Dense` call to the Keras 2 API: `Dense(activation=\"sigmoid\", units=1, kernel_initializer=\"uniform\")`\n",
            "  \n"
          ],
          "name": "stderr"
        }
      ]
    },
    {
      "cell_type": "code",
      "metadata": {
        "id": "H06X1tZcYr5c",
        "colab_type": "code",
        "colab": {}
      },
      "source": [
        "classifier.compile(optimizer=\"Adam\",loss=\"binary_crossentropy\",metrics=['accuracy'])"
      ],
      "execution_count": 0,
      "outputs": []
    },
    {
      "cell_type": "code",
      "metadata": {
        "id": "M5fKtU9SZihl",
        "colab_type": "code",
        "colab": {
          "base_uri": "https://localhost:8080/",
          "height": 1000
        },
        "outputId": "46d7d1b3-ad22-44ae-8834-e16512378a00"
      },
      "source": [
        "classifier.fit(X_train,y_train,batch_size=100,nb_epoch=200)"
      ],
      "execution_count": 23,
      "outputs": [
        {
          "output_type": "stream",
          "text": [
            "Epoch 1/200\n",
            "512/512 [==============================] - 0s 31us/step - loss: 0.0329 - accuracy: 0.9922\n",
            "Epoch 2/200\n",
            "512/512 [==============================] - 0s 24us/step - loss: 0.0327 - accuracy: 0.9922\n",
            "Epoch 3/200\n",
            "512/512 [==============================] - 0s 24us/step - loss: 0.0325 - accuracy: 0.9922\n",
            "Epoch 4/200\n",
            "512/512 [==============================] - 0s 25us/step - loss: 0.0323 - accuracy: 0.9922\n",
            "Epoch 5/200\n",
            "512/512 [==============================] - 0s 21us/step - loss: 0.0321 - accuracy: 0.9922\n",
            "Epoch 6/200\n",
            "512/512 [==============================] - 0s 22us/step - loss: 0.0318 - accuracy: 0.9922\n",
            "Epoch 7/200\n",
            "512/512 [==============================] - 0s 22us/step - loss: 0.0316 - accuracy: 0.9922\n",
            "Epoch 8/200\n",
            "512/512 [==============================] - 0s 23us/step - loss: 0.0315 - accuracy: 0.9922\n",
            "Epoch 9/200\n",
            "512/512 [==============================] - 0s 23us/step - loss: 0.0313 - accuracy: 0.9922\n",
            "Epoch 10/200\n",
            "512/512 [==============================] - 0s 20us/step - loss: 0.0310 - accuracy: 0.9922\n",
            "Epoch 11/200\n",
            "512/512 [==============================] - 0s 22us/step - loss: 0.0307 - accuracy: 0.9922\n",
            "Epoch 12/200\n",
            "512/512 [==============================] - 0s 19us/step - loss: 0.0310 - accuracy: 0.9922\n",
            "Epoch 13/200\n",
            "512/512 [==============================] - 0s 21us/step - loss: 0.0307 - accuracy: 0.9922\n",
            "Epoch 14/200\n",
            "512/512 [==============================] - 0s 20us/step - loss: 0.0304 - accuracy: 0.9922\n",
            "Epoch 15/200\n",
            "512/512 [==============================] - 0s 20us/step - loss: 0.0301 - accuracy: 0.9922\n",
            "Epoch 16/200\n",
            "100/512 [====>.........................] - ETA: 0s - loss: 0.0153 - accuracy: 1.0000"
          ],
          "name": "stdout"
        },
        {
          "output_type": "stream",
          "text": [
            "/usr/local/lib/python3.6/dist-packages/ipykernel_launcher.py:1: UserWarning: The `nb_epoch` argument in `fit` has been renamed `epochs`.\n",
            "  \"\"\"Entry point for launching an IPython kernel.\n"
          ],
          "name": "stderr"
        },
        {
          "output_type": "stream",
          "text": [
            "512/512 [==============================] - 0s 26us/step - loss: 0.0299 - accuracy: 0.9922\n",
            "Epoch 17/200\n",
            "512/512 [==============================] - 0s 20us/step - loss: 0.0296 - accuracy: 0.9922\n",
            "Epoch 18/200\n",
            "512/512 [==============================] - 0s 22us/step - loss: 0.0294 - accuracy: 0.9922\n",
            "Epoch 19/200\n",
            "512/512 [==============================] - 0s 23us/step - loss: 0.0294 - accuracy: 0.9922\n",
            "Epoch 20/200\n",
            "512/512 [==============================] - 0s 23us/step - loss: 0.0292 - accuracy: 0.9922\n",
            "Epoch 21/200\n",
            "512/512 [==============================] - 0s 20us/step - loss: 0.0290 - accuracy: 0.9922\n",
            "Epoch 22/200\n",
            "512/512 [==============================] - 0s 22us/step - loss: 0.0289 - accuracy: 0.9922\n",
            "Epoch 23/200\n",
            "512/512 [==============================] - 0s 22us/step - loss: 0.0285 - accuracy: 0.9922\n",
            "Epoch 24/200\n",
            "512/512 [==============================] - 0s 20us/step - loss: 0.0283 - accuracy: 0.9922\n",
            "Epoch 25/200\n",
            "512/512 [==============================] - 0s 24us/step - loss: 0.0280 - accuracy: 0.9922\n",
            "Epoch 26/200\n",
            "512/512 [==============================] - 0s 24us/step - loss: 0.0278 - accuracy: 0.9922\n",
            "Epoch 27/200\n",
            "512/512 [==============================] - 0s 20us/step - loss: 0.0276 - accuracy: 0.9922\n",
            "Epoch 28/200\n",
            "512/512 [==============================] - 0s 25us/step - loss: 0.0272 - accuracy: 0.9922\n",
            "Epoch 29/200\n",
            "512/512 [==============================] - 0s 21us/step - loss: 0.0271 - accuracy: 0.9922\n",
            "Epoch 30/200\n",
            "512/512 [==============================] - 0s 22us/step - loss: 0.0267 - accuracy: 0.9922\n",
            "Epoch 31/200\n",
            "512/512 [==============================] - 0s 21us/step - loss: 0.0265 - accuracy: 0.9922\n",
            "Epoch 32/200\n",
            "512/512 [==============================] - 0s 21us/step - loss: 0.0263 - accuracy: 0.9922\n",
            "Epoch 33/200\n",
            "512/512 [==============================] - 0s 24us/step - loss: 0.0264 - accuracy: 0.9922\n",
            "Epoch 34/200\n",
            "512/512 [==============================] - 0s 25us/step - loss: 0.0264 - accuracy: 0.9922\n",
            "Epoch 35/200\n",
            "512/512 [==============================] - 0s 22us/step - loss: 0.0261 - accuracy: 0.9922\n",
            "Epoch 36/200\n",
            "512/512 [==============================] - 0s 20us/step - loss: 0.0255 - accuracy: 0.9922\n",
            "Epoch 37/200\n",
            "512/512 [==============================] - 0s 20us/step - loss: 0.0251 - accuracy: 0.9922\n",
            "Epoch 38/200\n",
            "512/512 [==============================] - 0s 22us/step - loss: 0.0253 - accuracy: 0.9922\n",
            "Epoch 39/200\n",
            "512/512 [==============================] - 0s 21us/step - loss: 0.0250 - accuracy: 0.9922\n",
            "Epoch 40/200\n",
            "512/512 [==============================] - 0s 20us/step - loss: 0.0248 - accuracy: 0.9922\n",
            "Epoch 41/200\n",
            "512/512 [==============================] - 0s 20us/step - loss: 0.0246 - accuracy: 0.9922\n",
            "Epoch 42/200\n",
            "512/512 [==============================] - 0s 25us/step - loss: 0.0245 - accuracy: 0.9922\n",
            "Epoch 43/200\n",
            "512/512 [==============================] - 0s 23us/step - loss: 0.0242 - accuracy: 0.9922\n",
            "Epoch 44/200\n",
            "512/512 [==============================] - 0s 21us/step - loss: 0.0240 - accuracy: 0.9922\n",
            "Epoch 45/200\n",
            "512/512 [==============================] - 0s 21us/step - loss: 0.0239 - accuracy: 0.9922\n",
            "Epoch 46/200\n",
            "512/512 [==============================] - 0s 25us/step - loss: 0.0238 - accuracy: 0.9922\n",
            "Epoch 47/200\n",
            "512/512 [==============================] - 0s 23us/step - loss: 0.0242 - accuracy: 0.9922\n",
            "Epoch 48/200\n",
            "512/512 [==============================] - 0s 33us/step - loss: 0.0240 - accuracy: 0.9922\n",
            "Epoch 49/200\n",
            "512/512 [==============================] - 0s 20us/step - loss: 0.0234 - accuracy: 0.9922\n",
            "Epoch 50/200\n",
            "512/512 [==============================] - 0s 18us/step - loss: 0.0230 - accuracy: 0.9922\n",
            "Epoch 51/200\n",
            "512/512 [==============================] - 0s 19us/step - loss: 0.0226 - accuracy: 0.9922\n",
            "Epoch 52/200\n",
            "512/512 [==============================] - 0s 24us/step - loss: 0.0224 - accuracy: 0.9922\n",
            "Epoch 53/200\n",
            "512/512 [==============================] - 0s 23us/step - loss: 0.0222 - accuracy: 0.9922\n",
            "Epoch 54/200\n",
            "512/512 [==============================] - 0s 24us/step - loss: 0.0221 - accuracy: 0.9922\n",
            "Epoch 55/200\n",
            "512/512 [==============================] - 0s 26us/step - loss: 0.0219 - accuracy: 0.9922\n",
            "Epoch 56/200\n",
            "512/512 [==============================] - 0s 20us/step - loss: 0.0216 - accuracy: 0.9922\n",
            "Epoch 57/200\n",
            "512/512 [==============================] - 0s 20us/step - loss: 0.0213 - accuracy: 0.9922\n",
            "Epoch 58/200\n",
            "512/512 [==============================] - 0s 20us/step - loss: 0.0211 - accuracy: 0.9922\n",
            "Epoch 59/200\n",
            "512/512 [==============================] - 0s 20us/step - loss: 0.0210 - accuracy: 0.9922\n",
            "Epoch 60/200\n",
            "512/512 [==============================] - 0s 24us/step - loss: 0.0210 - accuracy: 0.9922\n",
            "Epoch 61/200\n",
            "512/512 [==============================] - 0s 22us/step - loss: 0.0208 - accuracy: 0.9922\n",
            "Epoch 62/200\n",
            "512/512 [==============================] - 0s 25us/step - loss: 0.0205 - accuracy: 0.9922\n",
            "Epoch 63/200\n",
            "512/512 [==============================] - 0s 26us/step - loss: 0.0203 - accuracy: 0.9922\n",
            "Epoch 64/200\n",
            "512/512 [==============================] - 0s 24us/step - loss: 0.0204 - accuracy: 0.9922\n",
            "Epoch 65/200\n",
            "512/512 [==============================] - 0s 22us/step - loss: 0.0203 - accuracy: 0.9922\n",
            "Epoch 66/200\n",
            "512/512 [==============================] - 0s 21us/step - loss: 0.0201 - accuracy: 0.9922\n",
            "Epoch 67/200\n",
            "512/512 [==============================] - 0s 21us/step - loss: 0.0197 - accuracy: 0.9922\n",
            "Epoch 68/200\n",
            "512/512 [==============================] - 0s 23us/step - loss: 0.0194 - accuracy: 0.9922\n",
            "Epoch 69/200\n",
            "512/512 [==============================] - 0s 35us/step - loss: 0.0194 - accuracy: 0.9922\n",
            "Epoch 70/200\n",
            "512/512 [==============================] - 0s 23us/step - loss: 0.0192 - accuracy: 0.9922\n",
            "Epoch 71/200\n",
            "512/512 [==============================] - 0s 23us/step - loss: 0.0191 - accuracy: 0.9922\n",
            "Epoch 72/200\n",
            "512/512 [==============================] - 0s 22us/step - loss: 0.0188 - accuracy: 0.9922\n",
            "Epoch 73/200\n",
            "512/512 [==============================] - 0s 21us/step - loss: 0.0186 - accuracy: 0.9922\n",
            "Epoch 74/200\n",
            "512/512 [==============================] - 0s 21us/step - loss: 0.0184 - accuracy: 0.9922\n",
            "Epoch 75/200\n",
            "512/512 [==============================] - 0s 22us/step - loss: 0.0181 - accuracy: 0.9922\n",
            "Epoch 76/200\n",
            "512/512 [==============================] - 0s 22us/step - loss: 0.0181 - accuracy: 0.9922\n",
            "Epoch 77/200\n",
            "512/512 [==============================] - 0s 43us/step - loss: 0.0180 - accuracy: 0.9922\n",
            "Epoch 78/200\n",
            "512/512 [==============================] - 0s 25us/step - loss: 0.0178 - accuracy: 0.9922\n",
            "Epoch 79/200\n",
            "512/512 [==============================] - 0s 21us/step - loss: 0.0177 - accuracy: 0.9922\n",
            "Epoch 80/200\n",
            "512/512 [==============================] - 0s 20us/step - loss: 0.0176 - accuracy: 0.9922\n",
            "Epoch 81/200\n",
            "512/512 [==============================] - 0s 21us/step - loss: 0.0174 - accuracy: 0.9922\n",
            "Epoch 82/200\n",
            "512/512 [==============================] - 0s 22us/step - loss: 0.0178 - accuracy: 0.9922\n",
            "Epoch 83/200\n",
            "512/512 [==============================] - 0s 25us/step - loss: 0.0176 - accuracy: 0.9941\n",
            "Epoch 84/200\n",
            "512/512 [==============================] - 0s 21us/step - loss: 0.0173 - accuracy: 0.9941\n",
            "Epoch 85/200\n",
            "512/512 [==============================] - 0s 22us/step - loss: 0.0171 - accuracy: 0.9941\n",
            "Epoch 86/200\n",
            "512/512 [==============================] - 0s 21us/step - loss: 0.0168 - accuracy: 0.9941\n",
            "Epoch 87/200\n",
            "512/512 [==============================] - 0s 21us/step - loss: 0.0166 - accuracy: 0.9941\n",
            "Epoch 88/200\n",
            "512/512 [==============================] - 0s 21us/step - loss: 0.0164 - accuracy: 0.9941\n",
            "Epoch 89/200\n",
            "512/512 [==============================] - 0s 22us/step - loss: 0.0161 - accuracy: 0.9922\n",
            "Epoch 90/200\n",
            "512/512 [==============================] - 0s 22us/step - loss: 0.0160 - accuracy: 0.9922\n",
            "Epoch 91/200\n",
            "512/512 [==============================] - 0s 21us/step - loss: 0.0159 - accuracy: 0.9922\n",
            "Epoch 92/200\n",
            "512/512 [==============================] - 0s 21us/step - loss: 0.0158 - accuracy: 0.9922\n",
            "Epoch 93/200\n",
            "512/512 [==============================] - 0s 23us/step - loss: 0.0157 - accuracy: 0.9922\n",
            "Epoch 94/200\n",
            "512/512 [==============================] - 0s 24us/step - loss: 0.0156 - accuracy: 0.9922\n",
            "Epoch 95/200\n",
            "512/512 [==============================] - 0s 24us/step - loss: 0.0154 - accuracy: 0.9922\n",
            "Epoch 96/200\n",
            "512/512 [==============================] - 0s 23us/step - loss: 0.0153 - accuracy: 0.9922\n",
            "Epoch 97/200\n",
            "512/512 [==============================] - 0s 22us/step - loss: 0.0152 - accuracy: 0.9922\n",
            "Epoch 98/200\n",
            "512/512 [==============================] - 0s 22us/step - loss: 0.0151 - accuracy: 0.9922\n",
            "Epoch 99/200\n",
            "512/512 [==============================] - 0s 26us/step - loss: 0.0149 - accuracy: 0.9922\n",
            "Epoch 100/200\n",
            "512/512 [==============================] - 0s 24us/step - loss: 0.0147 - accuracy: 0.9941\n",
            "Epoch 101/200\n",
            "512/512 [==============================] - 0s 21us/step - loss: 0.0147 - accuracy: 0.9922\n",
            "Epoch 102/200\n",
            "512/512 [==============================] - 0s 21us/step - loss: 0.0147 - accuracy: 0.9922\n",
            "Epoch 103/200\n",
            "512/512 [==============================] - 0s 22us/step - loss: 0.0145 - accuracy: 0.9922\n",
            "Epoch 104/200\n",
            "512/512 [==============================] - 0s 21us/step - loss: 0.0143 - accuracy: 0.9922\n",
            "Epoch 105/200\n",
            "512/512 [==============================] - 0s 21us/step - loss: 0.0142 - accuracy: 0.9941\n",
            "Epoch 106/200\n",
            "512/512 [==============================] - 0s 21us/step - loss: 0.0140 - accuracy: 0.9941\n",
            "Epoch 107/200\n",
            "512/512 [==============================] - 0s 22us/step - loss: 0.0140 - accuracy: 0.9941\n",
            "Epoch 108/200\n",
            "512/512 [==============================] - 0s 27us/step - loss: 0.0138 - accuracy: 0.9941\n",
            "Epoch 109/200\n",
            "512/512 [==============================] - 0s 22us/step - loss: 0.0137 - accuracy: 0.9941\n",
            "Epoch 110/200\n",
            "512/512 [==============================] - 0s 22us/step - loss: 0.0136 - accuracy: 0.9941\n",
            "Epoch 111/200\n",
            "512/512 [==============================] - 0s 22us/step - loss: 0.0138 - accuracy: 0.9941\n",
            "Epoch 112/200\n",
            "512/512 [==============================] - 0s 22us/step - loss: 0.0143 - accuracy: 0.9941\n",
            "Epoch 113/200\n",
            "512/512 [==============================] - 0s 28us/step - loss: 0.0141 - accuracy: 0.9941\n",
            "Epoch 114/200\n",
            "512/512 [==============================] - 0s 23us/step - loss: 0.0135 - accuracy: 0.9941\n",
            "Epoch 115/200\n",
            "512/512 [==============================] - 0s 24us/step - loss: 0.0132 - accuracy: 0.9941\n",
            "Epoch 116/200\n",
            "512/512 [==============================] - 0s 23us/step - loss: 0.0131 - accuracy: 0.9941\n",
            "Epoch 117/200\n",
            "512/512 [==============================] - 0s 21us/step - loss: 0.0131 - accuracy: 0.9941\n",
            "Epoch 118/200\n",
            "512/512 [==============================] - 0s 24us/step - loss: 0.0130 - accuracy: 0.9941\n",
            "Epoch 119/200\n",
            "512/512 [==============================] - 0s 21us/step - loss: 0.0129 - accuracy: 0.9941\n",
            "Epoch 120/200\n",
            "512/512 [==============================] - 0s 21us/step - loss: 0.0127 - accuracy: 0.9941\n",
            "Epoch 121/200\n",
            "512/512 [==============================] - 0s 20us/step - loss: 0.0126 - accuracy: 0.9941\n",
            "Epoch 122/200\n",
            "512/512 [==============================] - 0s 19us/step - loss: 0.0125 - accuracy: 0.9941\n",
            "Epoch 123/200\n",
            "512/512 [==============================] - 0s 21us/step - loss: 0.0124 - accuracy: 0.9941\n",
            "Epoch 124/200\n",
            "512/512 [==============================] - 0s 33us/step - loss: 0.0123 - accuracy: 0.9941\n",
            "Epoch 125/200\n",
            "512/512 [==============================] - 0s 22us/step - loss: 0.0125 - accuracy: 0.9941\n",
            "Epoch 126/200\n",
            "512/512 [==============================] - 0s 25us/step - loss: 0.0125 - accuracy: 0.9961\n",
            "Epoch 127/200\n",
            "512/512 [==============================] - 0s 22us/step - loss: 0.0123 - accuracy: 0.9941\n",
            "Epoch 128/200\n",
            "512/512 [==============================] - 0s 22us/step - loss: 0.0120 - accuracy: 0.9941\n",
            "Epoch 129/200\n",
            "512/512 [==============================] - 0s 20us/step - loss: 0.0118 - accuracy: 0.9941\n",
            "Epoch 130/200\n",
            "512/512 [==============================] - 0s 26us/step - loss: 0.0118 - accuracy: 0.9941\n",
            "Epoch 131/200\n",
            "512/512 [==============================] - 0s 27us/step - loss: 0.0115 - accuracy: 0.9941\n",
            "Epoch 132/200\n",
            "512/512 [==============================] - 0s 26us/step - loss: 0.0114 - accuracy: 0.9941\n",
            "Epoch 133/200\n",
            "512/512 [==============================] - 0s 22us/step - loss: 0.0113 - accuracy: 0.9941\n",
            "Epoch 134/200\n",
            "512/512 [==============================] - 0s 21us/step - loss: 0.0112 - accuracy: 0.9941\n",
            "Epoch 135/200\n",
            "512/512 [==============================] - 0s 21us/step - loss: 0.0111 - accuracy: 0.9941\n",
            "Epoch 136/200\n",
            "512/512 [==============================] - 0s 21us/step - loss: 0.0110 - accuracy: 0.9941\n",
            "Epoch 137/200\n",
            "512/512 [==============================] - 0s 21us/step - loss: 0.0111 - accuracy: 0.9941\n",
            "Epoch 138/200\n",
            "512/512 [==============================] - 0s 20us/step - loss: 0.0110 - accuracy: 0.9941\n",
            "Epoch 139/200\n",
            "512/512 [==============================] - 0s 20us/step - loss: 0.0109 - accuracy: 0.9941\n",
            "Epoch 140/200\n",
            "512/512 [==============================] - 0s 21us/step - loss: 0.0107 - accuracy: 0.9941\n",
            "Epoch 141/200\n",
            "512/512 [==============================] - 0s 21us/step - loss: 0.0106 - accuracy: 0.9941\n",
            "Epoch 142/200\n",
            "512/512 [==============================] - 0s 21us/step - loss: 0.0105 - accuracy: 0.9941\n",
            "Epoch 143/200\n",
            "512/512 [==============================] - 0s 23us/step - loss: 0.0104 - accuracy: 0.9941\n",
            "Epoch 144/200\n",
            "512/512 [==============================] - 0s 18us/step - loss: 0.0103 - accuracy: 0.9941\n",
            "Epoch 145/200\n",
            "512/512 [==============================] - 0s 20us/step - loss: 0.0102 - accuracy: 0.9941\n",
            "Epoch 146/200\n",
            "512/512 [==============================] - 0s 25us/step - loss: 0.0101 - accuracy: 0.9941\n",
            "Epoch 147/200\n",
            "512/512 [==============================] - 0s 22us/step - loss: 0.0101 - accuracy: 0.9941\n",
            "Epoch 148/200\n",
            "512/512 [==============================] - 0s 29us/step - loss: 0.0102 - accuracy: 0.9961\n",
            "Epoch 149/200\n",
            "512/512 [==============================] - 0s 23us/step - loss: 0.0101 - accuracy: 0.9961\n",
            "Epoch 150/200\n",
            "512/512 [==============================] - 0s 28us/step - loss: 0.0099 - accuracy: 0.9961\n",
            "Epoch 151/200\n",
            "512/512 [==============================] - 0s 24us/step - loss: 0.0096 - accuracy: 0.9961\n",
            "Epoch 152/200\n",
            "512/512 [==============================] - 0s 23us/step - loss: 0.0096 - accuracy: 0.9941\n",
            "Epoch 153/200\n",
            "512/512 [==============================] - 0s 23us/step - loss: 0.0097 - accuracy: 0.9941\n",
            "Epoch 154/200\n",
            "512/512 [==============================] - 0s 21us/step - loss: 0.0096 - accuracy: 0.9941\n",
            "Epoch 155/200\n",
            "512/512 [==============================] - 0s 22us/step - loss: 0.0094 - accuracy: 0.9941\n",
            "Epoch 156/200\n",
            "512/512 [==============================] - 0s 20us/step - loss: 0.0092 - accuracy: 0.9941\n",
            "Epoch 157/200\n",
            "512/512 [==============================] - 0s 20us/step - loss: 0.0091 - accuracy: 0.9941\n",
            "Epoch 158/200\n",
            "512/512 [==============================] - 0s 22us/step - loss: 0.0090 - accuracy: 0.9941\n",
            "Epoch 159/200\n",
            "512/512 [==============================] - 0s 18us/step - loss: 0.0090 - accuracy: 0.9941\n",
            "Epoch 160/200\n",
            "512/512 [==============================] - 0s 21us/step - loss: 0.0088 - accuracy: 0.9941\n",
            "Epoch 161/200\n",
            "512/512 [==============================] - 0s 28us/step - loss: 0.0088 - accuracy: 0.9941\n",
            "Epoch 162/200\n",
            "512/512 [==============================] - 0s 26us/step - loss: 0.0087 - accuracy: 0.9961\n",
            "Epoch 163/200\n",
            "512/512 [==============================] - 0s 23us/step - loss: 0.0087 - accuracy: 0.9961\n",
            "Epoch 164/200\n",
            "512/512 [==============================] - 0s 22us/step - loss: 0.0086 - accuracy: 0.9961\n",
            "Epoch 165/200\n",
            "512/512 [==============================] - 0s 26us/step - loss: 0.0087 - accuracy: 0.9941\n",
            "Epoch 166/200\n",
            "512/512 [==============================] - 0s 25us/step - loss: 0.0085 - accuracy: 0.9941\n",
            "Epoch 167/200\n",
            "512/512 [==============================] - 0s 24us/step - loss: 0.0083 - accuracy: 0.9941\n",
            "Epoch 168/200\n",
            "512/512 [==============================] - 0s 27us/step - loss: 0.0082 - accuracy: 0.9961\n",
            "Epoch 169/200\n",
            "512/512 [==============================] - 0s 26us/step - loss: 0.0081 - accuracy: 0.9961\n",
            "Epoch 170/200\n",
            "512/512 [==============================] - 0s 22us/step - loss: 0.0080 - accuracy: 0.9961\n",
            "Epoch 171/200\n",
            "512/512 [==============================] - 0s 24us/step - loss: 0.0079 - accuracy: 0.9961\n",
            "Epoch 172/200\n",
            "512/512 [==============================] - 0s 23us/step - loss: 0.0078 - accuracy: 0.9961\n",
            "Epoch 173/200\n",
            "512/512 [==============================] - 0s 22us/step - loss: 0.0077 - accuracy: 0.9961\n",
            "Epoch 174/200\n",
            "512/512 [==============================] - 0s 22us/step - loss: 0.0077 - accuracy: 0.9961\n",
            "Epoch 175/200\n",
            "512/512 [==============================] - 0s 28us/step - loss: 0.0078 - accuracy: 0.9961\n",
            "Epoch 176/200\n",
            "512/512 [==============================] - 0s 41us/step - loss: 0.0078 - accuracy: 0.9961\n",
            "Epoch 177/200\n",
            "512/512 [==============================] - 0s 30us/step - loss: 0.0076 - accuracy: 0.9961\n",
            "Epoch 178/200\n",
            "512/512 [==============================] - 0s 23us/step - loss: 0.0076 - accuracy: 0.9961\n",
            "Epoch 179/200\n",
            "512/512 [==============================] - 0s 23us/step - loss: 0.0073 - accuracy: 0.9980\n",
            "Epoch 180/200\n",
            "512/512 [==============================] - 0s 20us/step - loss: 0.0072 - accuracy: 0.9980\n",
            "Epoch 181/200\n",
            "512/512 [==============================] - 0s 21us/step - loss: 0.0072 - accuracy: 0.9980\n",
            "Epoch 182/200\n",
            "512/512 [==============================] - 0s 21us/step - loss: 0.0070 - accuracy: 0.9980\n",
            "Epoch 183/200\n",
            "512/512 [==============================] - 0s 25us/step - loss: 0.0070 - accuracy: 1.0000\n",
            "Epoch 184/200\n",
            "512/512 [==============================] - 0s 33us/step - loss: 0.0069 - accuracy: 1.0000\n",
            "Epoch 185/200\n",
            "512/512 [==============================] - 0s 21us/step - loss: 0.0068 - accuracy: 1.0000\n",
            "Epoch 186/200\n",
            "512/512 [==============================] - 0s 21us/step - loss: 0.0068 - accuracy: 1.0000\n",
            "Epoch 187/200\n",
            "512/512 [==============================] - 0s 20us/step - loss: 0.0068 - accuracy: 1.0000\n",
            "Epoch 188/200\n",
            "512/512 [==============================] - 0s 23us/step - loss: 0.0067 - accuracy: 1.0000\n",
            "Epoch 189/200\n",
            "512/512 [==============================] - 0s 26us/step - loss: 0.0066 - accuracy: 1.0000\n",
            "Epoch 190/200\n",
            "512/512 [==============================] - 0s 22us/step - loss: 0.0065 - accuracy: 1.0000\n",
            "Epoch 191/200\n",
            "512/512 [==============================] - 0s 24us/step - loss: 0.0064 - accuracy: 1.0000\n",
            "Epoch 192/200\n",
            "512/512 [==============================] - 0s 29us/step - loss: 0.0063 - accuracy: 1.0000\n",
            "Epoch 193/200\n",
            "512/512 [==============================] - 0s 24us/step - loss: 0.0062 - accuracy: 1.0000\n",
            "Epoch 194/200\n",
            "512/512 [==============================] - 0s 24us/step - loss: 0.0062 - accuracy: 1.0000\n",
            "Epoch 195/200\n",
            "512/512 [==============================] - 0s 21us/step - loss: 0.0062 - accuracy: 1.0000\n",
            "Epoch 196/200\n",
            "512/512 [==============================] - 0s 21us/step - loss: 0.0061 - accuracy: 1.0000\n",
            "Epoch 197/200\n",
            "512/512 [==============================] - 0s 23us/step - loss: 0.0061 - accuracy: 1.0000\n",
            "Epoch 198/200\n",
            "512/512 [==============================] - 0s 24us/step - loss: 0.0060 - accuracy: 1.0000\n",
            "Epoch 199/200\n",
            "512/512 [==============================] - 0s 28us/step - loss: 0.0059 - accuracy: 1.0000\n",
            "Epoch 200/200\n",
            "512/512 [==============================] - 0s 21us/step - loss: 0.0059 - accuracy: 1.0000\n"
          ],
          "name": "stdout"
        },
        {
          "output_type": "execute_result",
          "data": {
            "text/plain": [
              "<keras.callbacks.callbacks.History at 0x7fb71eabb860>"
            ]
          },
          "metadata": {
            "tags": []
          },
          "execution_count": 23
        }
      ]
    },
    {
      "cell_type": "code",
      "metadata": {
        "id": "B2AQC3S8IIBE",
        "colab_type": "code",
        "colab": {}
      },
      "source": [
        "#Predicting the test set results\n",
        "y_pred = classifier.predict(X_test)\n",
        "y_pred =(y_pred > 0.5)"
      ],
      "execution_count": 0,
      "outputs": []
    },
    {
      "cell_type": "code",
      "metadata": {
        "id": "ZLTqFqGiORRj",
        "colab_type": "code",
        "colab": {}
      },
      "source": [
        "#Making confusion matrix\n",
        "from sklearn.metrics import confusion_matrix\n",
        "cm=confusion_matrix(y_test,y_pred)"
      ],
      "execution_count": 0,
      "outputs": []
    },
    {
      "cell_type": "code",
      "metadata": {
        "id": "1JUyc8koag3p",
        "colab_type": "code",
        "colab": {
          "base_uri": "https://localhost:8080/",
          "height": 269
        },
        "outputId": "37e4c032-f51a-4a30-af5f-c55ce93d64ff"
      },
      "source": [
        "sns.heatmap(cm,annot=True)\n",
        "plt.savefig('cancer.png')"
      ],
      "execution_count": 28,
      "outputs": [
        {
          "output_type": "display_data",
          "data": {
            "image/png": "[encoded data removed]",
            "text/plain": [
              "<Figure size 432x288 with 2 Axes>"
            ]
          },
          "metadata": {
            "tags": [],
            "needs_background": "light"
          }
        }
      ]
    },
    {
      "cell_type": "code",
      "metadata": {
        "id": "diRdKvG0a2d6",
        "colab_type": "code",
        "colab": {}
      },
      "source": [
        ""
      ],
      "execution_count": 0,
      "outputs": []
    }
  ]
}